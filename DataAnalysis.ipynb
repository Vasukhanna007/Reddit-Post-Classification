{
    "nbformat_minor": 2, 
    "cells": [
        {
            "source": "\nimport types\nimport pandas as pd\nfrom botocore.client import Config\nimport ibm_boto3\n\ndef __iter__(self): return 0\n\n# @hidden_cell\n# The following code accesses a file in your IBM Cloud Object Storage. It includes your credentials.\n# You might want to remove those credentials before you share the notebook.\nclient_c630b40987034e00a2c13458fdb2cc88 = ibm_boto3.client(service_name='s3',\n    ibm_api_key_id='5-7nMriVnLgZfwshJWjfILlgaJeG_C56eDPoe8AJTFCR',\n    ibm_auth_endpoint=\"https://iam.ng.bluemix.net/oidc/token\",\n    config=Config(signature_version='oauth'),\n    endpoint_url='https://s3-api.us-geo.objectstorage.service.networklayer.com')\n\nbody = client_c630b40987034e00a2c13458fdb2cc88.get_object(Bucket='5512-donotdelete-pr-qtcqvweu0xfryc',Key='reddit_train.csv')['Body']\n# add missing __iter__ method, so pandas accepts body as file-like object\nif not hasattr(body, \"__iter__\"): body.__iter__ = types.MethodType( __iter__, body )\n\ntrain = pd.read_csv(body)\ntrain.head()\n%matplotlib inline\nimport matplotlib.pyplot as plt\nimport numpy as np\nimport pandas as pd\nimport seaborn as sns\n\nsns.set()", 
            "cell_type": "code", 
            "execution_count": 59, 
            "outputs": [], 
            "metadata": {}
        }, 
        {
            "source": "## 1 - Open training data", 
            "cell_type": "markdown", 
            "metadata": {}
        }, 
        {
            "source": "#train_data = \"reddit_train.csv\"\n#train = pd.read_csv(train_data)\ntrain.head()", 
            "cell_type": "code", 
            "execution_count": 60, 
            "outputs": [
                {
                    "output_type": "execute_result", 
                    "metadata": {}, 
                    "data": {
                        "text/html": "<div>\n<style scoped>\n    .dataframe tbody tr th:only-of-type {\n        vertical-align: middle;\n    }\n\n    .dataframe tbody tr th {\n        vertical-align: top;\n    }\n\n    .dataframe thead th {\n        text-align: right;\n    }\n</style>\n<table border=\"1\" class=\"dataframe\">\n  <thead>\n    <tr style=\"text-align: right;\">\n      <th></th>\n      <th>id</th>\n      <th>comments</th>\n      <th>subreddits</th>\n    </tr>\n  </thead>\n  <tbody>\n    <tr>\n      <th>0</th>\n      <td>0</td>\n      <td>Honestly, Buffalo is the correct answer. I rem...</td>\n      <td>hockey</td>\n    </tr>\n    <tr>\n      <th>1</th>\n      <td>1</td>\n      <td>Ah yes way could have been :( remember when he...</td>\n      <td>nba</td>\n    </tr>\n    <tr>\n      <th>2</th>\n      <td>2</td>\n      <td>https://youtu.be/6xxbBR8iSZ0?t=40m49s\\n\\nIf yo...</td>\n      <td>leagueoflegends</td>\n    </tr>\n    <tr>\n      <th>3</th>\n      <td>3</td>\n      <td>He wouldn't have been a bad signing if we woul...</td>\n      <td>soccer</td>\n    </tr>\n    <tr>\n      <th>4</th>\n      <td>4</td>\n      <td>Easy. You use the piss and dry technique. Let ...</td>\n      <td>funny</td>\n    </tr>\n  </tbody>\n</table>\n</div>", 
                        "text/plain": "   id                                           comments       subreddits\n0   0  Honestly, Buffalo is the correct answer. I rem...           hockey\n1   1  Ah yes way could have been :( remember when he...              nba\n2   2  https://youtu.be/6xxbBR8iSZ0?t=40m49s\\n\\nIf yo...  leagueoflegends\n3   3  He wouldn't have been a bad signing if we woul...           soccer\n4   4  Easy. You use the piss and dry technique. Let ...            funny"
                    }, 
                    "execution_count": 60
                }
            ], 
            "metadata": {
                "scrolled": true
            }
        }, 
        {
            "source": "## 2 - Basic Feature Extraction\n ", 
            "cell_type": "markdown", 
            "metadata": {}
        }, 
        {
            "source": "### Number of Words", 
            "cell_type": "markdown", 
            "metadata": {}
        }, 
        {
            "source": "train['word_count'] = train['comments'].apply(lambda x: len(str(x).split(\" \")))\ntrain.head()", 
            "cell_type": "code", 
            "execution_count": 61, 
            "outputs": [
                {
                    "output_type": "execute_result", 
                    "metadata": {}, 
                    "data": {
                        "text/html": "<div>\n<style scoped>\n    .dataframe tbody tr th:only-of-type {\n        vertical-align: middle;\n    }\n\n    .dataframe tbody tr th {\n        vertical-align: top;\n    }\n\n    .dataframe thead th {\n        text-align: right;\n    }\n</style>\n<table border=\"1\" class=\"dataframe\">\n  <thead>\n    <tr style=\"text-align: right;\">\n      <th></th>\n      <th>id</th>\n      <th>comments</th>\n      <th>subreddits</th>\n      <th>word_count</th>\n    </tr>\n  </thead>\n  <tbody>\n    <tr>\n      <th>0</th>\n      <td>0</td>\n      <td>Honestly, Buffalo is the correct answer. I rem...</td>\n      <td>hockey</td>\n      <td>58</td>\n    </tr>\n    <tr>\n      <th>1</th>\n      <td>1</td>\n      <td>Ah yes way could have been :( remember when he...</td>\n      <td>nba</td>\n      <td>29</td>\n    </tr>\n    <tr>\n      <th>2</th>\n      <td>2</td>\n      <td>https://youtu.be/6xxbBR8iSZ0?t=40m49s\\n\\nIf yo...</td>\n      <td>leagueoflegends</td>\n      <td>18</td>\n    </tr>\n    <tr>\n      <th>3</th>\n      <td>3</td>\n      <td>He wouldn't have been a bad signing if we woul...</td>\n      <td>soccer</td>\n      <td>24</td>\n    </tr>\n    <tr>\n      <th>4</th>\n      <td>4</td>\n      <td>Easy. You use the piss and dry technique. Let ...</td>\n      <td>funny</td>\n      <td>46</td>\n    </tr>\n  </tbody>\n</table>\n</div>", 
                        "text/plain": "   id                                           comments       subreddits  \\\n0   0  Honestly, Buffalo is the correct answer. I rem...           hockey   \n1   1  Ah yes way could have been :( remember when he...              nba   \n2   2  https://youtu.be/6xxbBR8iSZ0?t=40m49s\\n\\nIf yo...  leagueoflegends   \n3   3  He wouldn't have been a bad signing if we woul...           soccer   \n4   4  Easy. You use the piss and dry technique. Let ...            funny   \n\n   word_count  \n0          58  \n1          29  \n2          18  \n3          24  \n4          46  "
                    }, 
                    "execution_count": 61
                }
            ], 
            "metadata": {}
        }, 
        {
            "source": "### 2.1 Number of Characters", 
            "cell_type": "markdown", 
            "metadata": {}
        }, 
        {
            "source": "train['char_count'] = train['comments'].str.len() ## this also includes spaces\ntrain.head()", 
            "cell_type": "code", 
            "execution_count": 62, 
            "outputs": [
                {
                    "output_type": "execute_result", 
                    "metadata": {}, 
                    "data": {
                        "text/html": "<div>\n<style scoped>\n    .dataframe tbody tr th:only-of-type {\n        vertical-align: middle;\n    }\n\n    .dataframe tbody tr th {\n        vertical-align: top;\n    }\n\n    .dataframe thead th {\n        text-align: right;\n    }\n</style>\n<table border=\"1\" class=\"dataframe\">\n  <thead>\n    <tr style=\"text-align: right;\">\n      <th></th>\n      <th>id</th>\n      <th>comments</th>\n      <th>subreddits</th>\n      <th>word_count</th>\n      <th>char_count</th>\n    </tr>\n  </thead>\n  <tbody>\n    <tr>\n      <th>0</th>\n      <td>0</td>\n      <td>Honestly, Buffalo is the correct answer. I rem...</td>\n      <td>hockey</td>\n      <td>58</td>\n      <td>357</td>\n    </tr>\n    <tr>\n      <th>1</th>\n      <td>1</td>\n      <td>Ah yes way could have been :( remember when he...</td>\n      <td>nba</td>\n      <td>29</td>\n      <td>145</td>\n    </tr>\n    <tr>\n      <th>2</th>\n      <td>2</td>\n      <td>https://youtu.be/6xxbBR8iSZ0?t=40m49s\\n\\nIf yo...</td>\n      <td>leagueoflegends</td>\n      <td>18</td>\n      <td>145</td>\n    </tr>\n    <tr>\n      <th>3</th>\n      <td>3</td>\n      <td>He wouldn't have been a bad signing if we woul...</td>\n      <td>soccer</td>\n      <td>24</td>\n      <td>123</td>\n    </tr>\n    <tr>\n      <th>4</th>\n      <td>4</td>\n      <td>Easy. You use the piss and dry technique. Let ...</td>\n      <td>funny</td>\n      <td>46</td>\n      <td>212</td>\n    </tr>\n  </tbody>\n</table>\n</div>", 
                        "text/plain": "   id                                           comments       subreddits  \\\n0   0  Honestly, Buffalo is the correct answer. I rem...           hockey   \n1   1  Ah yes way could have been :( remember when he...              nba   \n2   2  https://youtu.be/6xxbBR8iSZ0?t=40m49s\\n\\nIf yo...  leagueoflegends   \n3   3  He wouldn't have been a bad signing if we woul...           soccer   \n4   4  Easy. You use the piss and dry technique. Let ...            funny   \n\n   word_count  char_count  \n0          58         357  \n1          29         145  \n2          18         145  \n3          24         123  \n4          46         212  "
                    }, 
                    "execution_count": 62
                }
            ], 
            "metadata": {}
        }, 
        {
            "source": "### 2.2 Removing the stopwords", 
            "cell_type": "markdown", 
            "metadata": {}
        }, 
        {
            "source": "# do this if its the first time using nltk stopwords\nimport nltk\nnltk.download('stopwords') ", 
            "cell_type": "code", 
            "execution_count": 63, 
            "outputs": [
                {
                    "output_type": "stream", 
                    "name": "stderr", 
                    "text": "[nltk_data] Downloading package stopwords to\n[nltk_data]     /home/dsxuser/nltk_data...\n[nltk_data]   Package stopwords is already up-to-date!\n"
                }, 
                {
                    "output_type": "execute_result", 
                    "metadata": {}, 
                    "data": {
                        "text/plain": "True"
                    }, 
                    "execution_count": 63
                }
            ], 
            "metadata": {}
        }, 
        {
            "source": "from nltk.corpus import stopwords\n\nstop = stopwords.words('english')\n\ntrain['stopwords'] = train['comments'].apply(lambda x: len([x for x in x.split() if x in stop]))\ntrain.head()", 
            "cell_type": "code", 
            "execution_count": 64, 
            "outputs": [
                {
                    "output_type": "execute_result", 
                    "metadata": {}, 
                    "data": {
                        "text/html": "<div>\n<style scoped>\n    .dataframe tbody tr th:only-of-type {\n        vertical-align: middle;\n    }\n\n    .dataframe tbody tr th {\n        vertical-align: top;\n    }\n\n    .dataframe thead th {\n        text-align: right;\n    }\n</style>\n<table border=\"1\" class=\"dataframe\">\n  <thead>\n    <tr style=\"text-align: right;\">\n      <th></th>\n      <th>id</th>\n      <th>comments</th>\n      <th>subreddits</th>\n      <th>word_count</th>\n      <th>char_count</th>\n      <th>stopwords</th>\n    </tr>\n  </thead>\n  <tbody>\n    <tr>\n      <th>0</th>\n      <td>0</td>\n      <td>Honestly, Buffalo is the correct answer. I rem...</td>\n      <td>hockey</td>\n      <td>58</td>\n      <td>357</td>\n      <td>20</td>\n    </tr>\n    <tr>\n      <th>1</th>\n      <td>1</td>\n      <td>Ah yes way could have been :( remember when he...</td>\n      <td>nba</td>\n      <td>29</td>\n      <td>145</td>\n      <td>12</td>\n    </tr>\n    <tr>\n      <th>2</th>\n      <td>2</td>\n      <td>https://youtu.be/6xxbBR8iSZ0?t=40m49s\\n\\nIf yo...</td>\n      <td>leagueoflegends</td>\n      <td>18</td>\n      <td>145</td>\n      <td>9</td>\n    </tr>\n    <tr>\n      <th>3</th>\n      <td>3</td>\n      <td>He wouldn't have been a bad signing if we woul...</td>\n      <td>soccer</td>\n      <td>24</td>\n      <td>123</td>\n      <td>12</td>\n    </tr>\n    <tr>\n      <th>4</th>\n      <td>4</td>\n      <td>Easy. You use the piss and dry technique. Let ...</td>\n      <td>funny</td>\n      <td>46</td>\n      <td>212</td>\n      <td>17</td>\n    </tr>\n  </tbody>\n</table>\n</div>", 
                        "text/plain": "   id                                           comments       subreddits  \\\n0   0  Honestly, Buffalo is the correct answer. I rem...           hockey   \n1   1  Ah yes way could have been :( remember when he...              nba   \n2   2  https://youtu.be/6xxbBR8iSZ0?t=40m49s\\n\\nIf yo...  leagueoflegends   \n3   3  He wouldn't have been a bad signing if we woul...           soccer   \n4   4  Easy. You use the piss and dry technique. Let ...            funny   \n\n   word_count  char_count  stopwords  \n0          58         357         20  \n1          29         145         12  \n2          18         145          9  \n3          24         123         12  \n4          46         212         17  "
                    }, 
                    "execution_count": 64
                }
            ], 
            "metadata": {}
        }, 
        {
            "source": "### 2.3 Does the comment contain a url ?", 
            "cell_type": "markdown", 
            "metadata": {}
        }, 
        {
            "source": "train['links'] = train['comments'].apply(lambda x: True if \"http\" in x else False)\ntrain.head()", 
            "cell_type": "code", 
            "execution_count": 65, 
            "outputs": [
                {
                    "output_type": "execute_result", 
                    "metadata": {}, 
                    "data": {
                        "text/html": "<div>\n<style scoped>\n    .dataframe tbody tr th:only-of-type {\n        vertical-align: middle;\n    }\n\n    .dataframe tbody tr th {\n        vertical-align: top;\n    }\n\n    .dataframe thead th {\n        text-align: right;\n    }\n</style>\n<table border=\"1\" class=\"dataframe\">\n  <thead>\n    <tr style=\"text-align: right;\">\n      <th></th>\n      <th>id</th>\n      <th>comments</th>\n      <th>subreddits</th>\n      <th>word_count</th>\n      <th>char_count</th>\n      <th>stopwords</th>\n      <th>links</th>\n    </tr>\n  </thead>\n  <tbody>\n    <tr>\n      <th>0</th>\n      <td>0</td>\n      <td>Honestly, Buffalo is the correct answer. I rem...</td>\n      <td>hockey</td>\n      <td>58</td>\n      <td>357</td>\n      <td>20</td>\n      <td>False</td>\n    </tr>\n    <tr>\n      <th>1</th>\n      <td>1</td>\n      <td>Ah yes way could have been :( remember when he...</td>\n      <td>nba</td>\n      <td>29</td>\n      <td>145</td>\n      <td>12</td>\n      <td>False</td>\n    </tr>\n    <tr>\n      <th>2</th>\n      <td>2</td>\n      <td>https://youtu.be/6xxbBR8iSZ0?t=40m49s\\n\\nIf yo...</td>\n      <td>leagueoflegends</td>\n      <td>18</td>\n      <td>145</td>\n      <td>9</td>\n      <td>True</td>\n    </tr>\n    <tr>\n      <th>3</th>\n      <td>3</td>\n      <td>He wouldn't have been a bad signing if we woul...</td>\n      <td>soccer</td>\n      <td>24</td>\n      <td>123</td>\n      <td>12</td>\n      <td>False</td>\n    </tr>\n    <tr>\n      <th>4</th>\n      <td>4</td>\n      <td>Easy. You use the piss and dry technique. Let ...</td>\n      <td>funny</td>\n      <td>46</td>\n      <td>212</td>\n      <td>17</td>\n      <td>False</td>\n    </tr>\n  </tbody>\n</table>\n</div>", 
                        "text/plain": "   id                                           comments       subreddits  \\\n0   0  Honestly, Buffalo is the correct answer. I rem...           hockey   \n1   1  Ah yes way could have been :( remember when he...              nba   \n2   2  https://youtu.be/6xxbBR8iSZ0?t=40m49s\\n\\nIf yo...  leagueoflegends   \n3   3  He wouldn't have been a bad signing if we woul...           soccer   \n4   4  Easy. You use the piss and dry technique. Let ...            funny   \n\n   word_count  char_count  stopwords  links  \n0          58         357         20  False  \n1          29         145         12  False  \n2          18         145          9   True  \n3          24         123         12  False  \n4          46         212         17  False  "
                    }, 
                    "execution_count": 65
                }
            ], 
            "metadata": {}
        }, 
        {
            "source": "### 2.4 Number of Numerics", 
            "cell_type": "markdown", 
            "metadata": {}
        }, 
        {
            "source": "train['numerics'] = train['comments'].apply(lambda x: len([x for x in x.split() if x.isdigit()]))\ntrain.head()", 
            "cell_type": "code", 
            "execution_count": 66, 
            "outputs": [
                {
                    "output_type": "execute_result", 
                    "metadata": {}, 
                    "data": {
                        "text/html": "<div>\n<style scoped>\n    .dataframe tbody tr th:only-of-type {\n        vertical-align: middle;\n    }\n\n    .dataframe tbody tr th {\n        vertical-align: top;\n    }\n\n    .dataframe thead th {\n        text-align: right;\n    }\n</style>\n<table border=\"1\" class=\"dataframe\">\n  <thead>\n    <tr style=\"text-align: right;\">\n      <th></th>\n      <th>id</th>\n      <th>comments</th>\n      <th>subreddits</th>\n      <th>word_count</th>\n      <th>char_count</th>\n      <th>stopwords</th>\n      <th>links</th>\n      <th>numerics</th>\n    </tr>\n  </thead>\n  <tbody>\n    <tr>\n      <th>0</th>\n      <td>0</td>\n      <td>Honestly, Buffalo is the correct answer. I rem...</td>\n      <td>hockey</td>\n      <td>58</td>\n      <td>357</td>\n      <td>20</td>\n      <td>False</td>\n      <td>1</td>\n    </tr>\n    <tr>\n      <th>1</th>\n      <td>1</td>\n      <td>Ah yes way could have been :( remember when he...</td>\n      <td>nba</td>\n      <td>29</td>\n      <td>145</td>\n      <td>12</td>\n      <td>False</td>\n      <td>0</td>\n    </tr>\n    <tr>\n      <th>2</th>\n      <td>2</td>\n      <td>https://youtu.be/6xxbBR8iSZ0?t=40m49s\\n\\nIf yo...</td>\n      <td>leagueoflegends</td>\n      <td>18</td>\n      <td>145</td>\n      <td>9</td>\n      <td>True</td>\n      <td>0</td>\n    </tr>\n    <tr>\n      <th>3</th>\n      <td>3</td>\n      <td>He wouldn't have been a bad signing if we woul...</td>\n      <td>soccer</td>\n      <td>24</td>\n      <td>123</td>\n      <td>12</td>\n      <td>False</td>\n      <td>0</td>\n    </tr>\n    <tr>\n      <th>4</th>\n      <td>4</td>\n      <td>Easy. You use the piss and dry technique. Let ...</td>\n      <td>funny</td>\n      <td>46</td>\n      <td>212</td>\n      <td>17</td>\n      <td>False</td>\n      <td>0</td>\n    </tr>\n  </tbody>\n</table>\n</div>", 
                        "text/plain": "   id                                           comments       subreddits  \\\n0   0  Honestly, Buffalo is the correct answer. I rem...           hockey   \n1   1  Ah yes way could have been :( remember when he...              nba   \n2   2  https://youtu.be/6xxbBR8iSZ0?t=40m49s\\n\\nIf yo...  leagueoflegends   \n3   3  He wouldn't have been a bad signing if we woul...           soccer   \n4   4  Easy. You use the piss and dry technique. Let ...            funny   \n\n   word_count  char_count  stopwords  links  numerics  \n0          58         357         20  False         1  \n1          29         145         12  False         0  \n2          18         145          9   True         0  \n3          24         123         12  False         0  \n4          46         212         17  False         0  "
                    }, 
                    "execution_count": 66
                }
            ], 
            "metadata": {}
        }, 
        {
            "source": "### 2.5 Number of Uppercase words", 
            "cell_type": "markdown", 
            "metadata": {}
        }, 
        {
            "source": "train['upper'] = train['comments'].apply(lambda x: len([x for x in x.split() if x.isupper()]))\ntrain.head()", 
            "cell_type": "code", 
            "execution_count": 67, 
            "outputs": [
                {
                    "output_type": "execute_result", 
                    "metadata": {}, 
                    "data": {
                        "text/html": "<div>\n<style scoped>\n    .dataframe tbody tr th:only-of-type {\n        vertical-align: middle;\n    }\n\n    .dataframe tbody tr th {\n        vertical-align: top;\n    }\n\n    .dataframe thead th {\n        text-align: right;\n    }\n</style>\n<table border=\"1\" class=\"dataframe\">\n  <thead>\n    <tr style=\"text-align: right;\">\n      <th></th>\n      <th>id</th>\n      <th>comments</th>\n      <th>subreddits</th>\n      <th>word_count</th>\n      <th>char_count</th>\n      <th>stopwords</th>\n      <th>links</th>\n      <th>numerics</th>\n      <th>upper</th>\n    </tr>\n  </thead>\n  <tbody>\n    <tr>\n      <th>0</th>\n      <td>0</td>\n      <td>Honestly, Buffalo is the correct answer. I rem...</td>\n      <td>hockey</td>\n      <td>58</td>\n      <td>357</td>\n      <td>20</td>\n      <td>False</td>\n      <td>1</td>\n      <td>2</td>\n    </tr>\n    <tr>\n      <th>1</th>\n      <td>1</td>\n      <td>Ah yes way could have been :( remember when he...</td>\n      <td>nba</td>\n      <td>29</td>\n      <td>145</td>\n      <td>12</td>\n      <td>False</td>\n      <td>0</td>\n      <td>1</td>\n    </tr>\n    <tr>\n      <th>2</th>\n      <td>2</td>\n      <td>https://youtu.be/6xxbBR8iSZ0?t=40m49s\\n\\nIf yo...</td>\n      <td>leagueoflegends</td>\n      <td>18</td>\n      <td>145</td>\n      <td>9</td>\n      <td>True</td>\n      <td>0</td>\n      <td>0</td>\n    </tr>\n    <tr>\n      <th>3</th>\n      <td>3</td>\n      <td>He wouldn't have been a bad signing if we woul...</td>\n      <td>soccer</td>\n      <td>24</td>\n      <td>123</td>\n      <td>12</td>\n      <td>False</td>\n      <td>0</td>\n      <td>1</td>\n    </tr>\n    <tr>\n      <th>4</th>\n      <td>4</td>\n      <td>Easy. You use the piss and dry technique. Let ...</td>\n      <td>funny</td>\n      <td>46</td>\n      <td>212</td>\n      <td>17</td>\n      <td>False</td>\n      <td>0</td>\n      <td>0</td>\n    </tr>\n  </tbody>\n</table>\n</div>", 
                        "text/plain": "   id                                           comments       subreddits  \\\n0   0  Honestly, Buffalo is the correct answer. I rem...           hockey   \n1   1  Ah yes way could have been :( remember when he...              nba   \n2   2  https://youtu.be/6xxbBR8iSZ0?t=40m49s\\n\\nIf yo...  leagueoflegends   \n3   3  He wouldn't have been a bad signing if we woul...           soccer   \n4   4  Easy. You use the piss and dry technique. Let ...            funny   \n\n   word_count  char_count  stopwords  links  numerics  upper  \n0          58         357         20  False         1      2  \n1          29         145         12  False         0      1  \n2          18         145          9   True         0      0  \n3          24         123         12  False         0      1  \n4          46         212         17  False         0      0  "
                    }, 
                    "execution_count": 67
                }
            ], 
            "metadata": {}
        }, 
        {
            "source": "## 3 - Basic Pre-processing", 
            "cell_type": "markdown", 
            "metadata": {}
        }, 
        {
            "source": "# Keep a copy of the unprocessed training dataframe just in case\nunprocessed_train = train.copy()", 
            "cell_type": "code", 
            "execution_count": 68, 
            "outputs": [], 
            "metadata": {}
        }, 
        {
            "source": "### 3.1 - Lowercase", 
            "cell_type": "markdown", 
            "metadata": {}
        }, 
        {
            "source": "train['comments'] = train['comments'].apply(lambda x: \" \".join(x.lower() for x in x.split()))\ntrain.head()", 
            "cell_type": "code", 
            "execution_count": 69, 
            "outputs": [
                {
                    "output_type": "execute_result", 
                    "metadata": {}, 
                    "data": {
                        "text/html": "<div>\n<style scoped>\n    .dataframe tbody tr th:only-of-type {\n        vertical-align: middle;\n    }\n\n    .dataframe tbody tr th {\n        vertical-align: top;\n    }\n\n    .dataframe thead th {\n        text-align: right;\n    }\n</style>\n<table border=\"1\" class=\"dataframe\">\n  <thead>\n    <tr style=\"text-align: right;\">\n      <th></th>\n      <th>id</th>\n      <th>comments</th>\n      <th>subreddits</th>\n      <th>word_count</th>\n      <th>char_count</th>\n      <th>stopwords</th>\n      <th>links</th>\n      <th>numerics</th>\n      <th>upper</th>\n    </tr>\n  </thead>\n  <tbody>\n    <tr>\n      <th>0</th>\n      <td>0</td>\n      <td>honestly, buffalo is the correct answer. i rem...</td>\n      <td>hockey</td>\n      <td>58</td>\n      <td>357</td>\n      <td>20</td>\n      <td>False</td>\n      <td>1</td>\n      <td>2</td>\n    </tr>\n    <tr>\n      <th>1</th>\n      <td>1</td>\n      <td>ah yes way could have been :( remember when he...</td>\n      <td>nba</td>\n      <td>29</td>\n      <td>145</td>\n      <td>12</td>\n      <td>False</td>\n      <td>0</td>\n      <td>1</td>\n    </tr>\n    <tr>\n      <th>2</th>\n      <td>2</td>\n      <td>https://youtu.be/6xxbbr8isz0?t=40m49s if you d...</td>\n      <td>leagueoflegends</td>\n      <td>18</td>\n      <td>145</td>\n      <td>9</td>\n      <td>True</td>\n      <td>0</td>\n      <td>0</td>\n    </tr>\n    <tr>\n      <th>3</th>\n      <td>3</td>\n      <td>he wouldn't have been a bad signing if we woul...</td>\n      <td>soccer</td>\n      <td>24</td>\n      <td>123</td>\n      <td>12</td>\n      <td>False</td>\n      <td>0</td>\n      <td>1</td>\n    </tr>\n    <tr>\n      <th>4</th>\n      <td>4</td>\n      <td>easy. you use the piss and dry technique. let ...</td>\n      <td>funny</td>\n      <td>46</td>\n      <td>212</td>\n      <td>17</td>\n      <td>False</td>\n      <td>0</td>\n      <td>0</td>\n    </tr>\n  </tbody>\n</table>\n</div>", 
                        "text/plain": "   id                                           comments       subreddits  \\\n0   0  honestly, buffalo is the correct answer. i rem...           hockey   \n1   1  ah yes way could have been :( remember when he...              nba   \n2   2  https://youtu.be/6xxbbr8isz0?t=40m49s if you d...  leagueoflegends   \n3   3  he wouldn't have been a bad signing if we woul...           soccer   \n4   4  easy. you use the piss and dry technique. let ...            funny   \n\n   word_count  char_count  stopwords  links  numerics  upper  \n0          58         357         20  False         1      2  \n1          29         145         12  False         0      1  \n2          18         145          9   True         0      0  \n3          24         123         12  False         0      1  \n4          46         212         17  False         0      0  "
                    }, 
                    "execution_count": 69
                }
            ], 
            "metadata": {}
        }, 
        {
            "source": "### 3.2 Removing Punctuation", 
            "cell_type": "markdown", 
            "metadata": {}
        }, 
        {
            "source": "train['comments'] = train['comments'].str.replace('[^\\w\\s]','')\ntrain.head()", 
            "cell_type": "code", 
            "execution_count": 70, 
            "outputs": [
                {
                    "output_type": "execute_result", 
                    "metadata": {}, 
                    "data": {
                        "text/html": "<div>\n<style scoped>\n    .dataframe tbody tr th:only-of-type {\n        vertical-align: middle;\n    }\n\n    .dataframe tbody tr th {\n        vertical-align: top;\n    }\n\n    .dataframe thead th {\n        text-align: right;\n    }\n</style>\n<table border=\"1\" class=\"dataframe\">\n  <thead>\n    <tr style=\"text-align: right;\">\n      <th></th>\n      <th>id</th>\n      <th>comments</th>\n      <th>subreddits</th>\n      <th>word_count</th>\n      <th>char_count</th>\n      <th>stopwords</th>\n      <th>links</th>\n      <th>numerics</th>\n      <th>upper</th>\n    </tr>\n  </thead>\n  <tbody>\n    <tr>\n      <th>0</th>\n      <td>0</td>\n      <td>honestly buffalo is the correct answer i remem...</td>\n      <td>hockey</td>\n      <td>58</td>\n      <td>357</td>\n      <td>20</td>\n      <td>False</td>\n      <td>1</td>\n      <td>2</td>\n    </tr>\n    <tr>\n      <th>1</th>\n      <td>1</td>\n      <td>ah yes way could have been  remember when he w...</td>\n      <td>nba</td>\n      <td>29</td>\n      <td>145</td>\n      <td>12</td>\n      <td>False</td>\n      <td>0</td>\n      <td>1</td>\n    </tr>\n    <tr>\n      <th>2</th>\n      <td>2</td>\n      <td>httpsyoutube6xxbbr8isz0t40m49s if you didnt fi...</td>\n      <td>leagueoflegends</td>\n      <td>18</td>\n      <td>145</td>\n      <td>9</td>\n      <td>True</td>\n      <td>0</td>\n      <td>0</td>\n    </tr>\n    <tr>\n      <th>3</th>\n      <td>3</td>\n      <td>he wouldnt have been a bad signing if we would...</td>\n      <td>soccer</td>\n      <td>24</td>\n      <td>123</td>\n      <td>12</td>\n      <td>False</td>\n      <td>0</td>\n      <td>1</td>\n    </tr>\n    <tr>\n      <th>4</th>\n      <td>4</td>\n      <td>easy you use the piss and dry technique let a ...</td>\n      <td>funny</td>\n      <td>46</td>\n      <td>212</td>\n      <td>17</td>\n      <td>False</td>\n      <td>0</td>\n      <td>0</td>\n    </tr>\n  </tbody>\n</table>\n</div>", 
                        "text/plain": "   id                                           comments       subreddits  \\\n0   0  honestly buffalo is the correct answer i remem...           hockey   \n1   1  ah yes way could have been  remember when he w...              nba   \n2   2  httpsyoutube6xxbbr8isz0t40m49s if you didnt fi...  leagueoflegends   \n3   3  he wouldnt have been a bad signing if we would...           soccer   \n4   4  easy you use the piss and dry technique let a ...            funny   \n\n   word_count  char_count  stopwords  links  numerics  upper  \n0          58         357         20  False         1      2  \n1          29         145         12  False         0      1  \n2          18         145          9   True         0      0  \n3          24         123         12  False         0      1  \n4          46         212         17  False         0      0  "
                    }, 
                    "execution_count": 70
                }
            ], 
            "metadata": {}
        }, 
        {
            "source": "### 3.2 Removal of Stop Words", 
            "cell_type": "markdown", 
            "metadata": {}
        }, 
        {
            "source": "train['comments'] = train['comments'].apply(lambda x: \" \".join(x for x in x.split() if x not in stop))\ntrain.head()", 
            "cell_type": "code", 
            "execution_count": 71, 
            "outputs": [
                {
                    "output_type": "execute_result", 
                    "metadata": {}, 
                    "data": {
                        "text/html": "<div>\n<style scoped>\n    .dataframe tbody tr th:only-of-type {\n        vertical-align: middle;\n    }\n\n    .dataframe tbody tr th {\n        vertical-align: top;\n    }\n\n    .dataframe thead th {\n        text-align: right;\n    }\n</style>\n<table border=\"1\" class=\"dataframe\">\n  <thead>\n    <tr style=\"text-align: right;\">\n      <th></th>\n      <th>id</th>\n      <th>comments</th>\n      <th>subreddits</th>\n      <th>word_count</th>\n      <th>char_count</th>\n      <th>stopwords</th>\n      <th>links</th>\n      <th>numerics</th>\n      <th>upper</th>\n    </tr>\n  </thead>\n  <tbody>\n    <tr>\n      <th>0</th>\n      <td>0</td>\n      <td>honestly buffalo correct answer remember peopl...</td>\n      <td>hockey</td>\n      <td>58</td>\n      <td>357</td>\n      <td>20</td>\n      <td>False</td>\n      <td>1</td>\n      <td>2</td>\n    </tr>\n    <tr>\n      <th>1</th>\n      <td>1</td>\n      <td>ah yes way could remember drafted thought gonn...</td>\n      <td>nba</td>\n      <td>29</td>\n      <td>145</td>\n      <td>12</td>\n      <td>False</td>\n      <td>0</td>\n      <td>1</td>\n    </tr>\n    <tr>\n      <th>2</th>\n      <td>2</td>\n      <td>httpsyoutube6xxbbr8isz0t40m49s didnt find alre...</td>\n      <td>leagueoflegends</td>\n      <td>18</td>\n      <td>145</td>\n      <td>9</td>\n      <td>True</td>\n      <td>0</td>\n      <td>0</td>\n    </tr>\n    <tr>\n      <th>3</th>\n      <td>3</td>\n      <td>wouldnt bad signing wouldnt paid 18m euros rig...</td>\n      <td>soccer</td>\n      <td>24</td>\n      <td>123</td>\n      <td>12</td>\n      <td>False</td>\n      <td>0</td>\n      <td>1</td>\n    </tr>\n    <tr>\n      <th>4</th>\n      <td>4</td>\n      <td>easy use piss dry technique let drops let dry ...</td>\n      <td>funny</td>\n      <td>46</td>\n      <td>212</td>\n      <td>17</td>\n      <td>False</td>\n      <td>0</td>\n      <td>0</td>\n    </tr>\n  </tbody>\n</table>\n</div>", 
                        "text/plain": "   id                                           comments       subreddits  \\\n0   0  honestly buffalo correct answer remember peopl...           hockey   \n1   1  ah yes way could remember drafted thought gonn...              nba   \n2   2  httpsyoutube6xxbbr8isz0t40m49s didnt find alre...  leagueoflegends   \n3   3  wouldnt bad signing wouldnt paid 18m euros rig...           soccer   \n4   4  easy use piss dry technique let drops let dry ...            funny   \n\n   word_count  char_count  stopwords  links  numerics  upper  \n0          58         357         20  False         1      2  \n1          29         145         12  False         0      1  \n2          18         145          9   True         0      0  \n3          24         123         12  False         0      1  \n4          46         212         17  False         0      0  "
                    }, 
                    "execution_count": 71
                }
            ], 
            "metadata": {}
        }, 
        {
            "source": "### 3.3 Spelling correction - WARNING: takes a very long time!", 
            "cell_type": "markdown", 
            "metadata": {}
        }, 
        {
            "source": "!pip install -U textblob\n############not running this code because it takes so much time", 
            "cell_type": "code", 
            "execution_count": 72, 
            "outputs": [
                {
                    "output_type": "stream", 
                    "name": "stdout", 
                    "text": "Requirement already up-to-date: textblob in /opt/conda/envs/Python36/lib/python3.6/site-packages (0.15.3)\nRequirement already satisfied, skipping upgrade: nltk>=3.1 in /opt/conda/envs/Python36/lib/python3.6/site-packages (from textblob) (3.4)\nRequirement already satisfied, skipping upgrade: six in /opt/conda/envs/Python36/lib/python3.6/site-packages (from nltk>=3.1->textblob) (1.12.0)\nRequirement already satisfied, skipping upgrade: singledispatch in /opt/conda/envs/Python36/lib/python3.6/site-packages (from nltk>=3.1->textblob) (3.4.0.3)\n"
                }
            ], 
            "metadata": {}
        }, 
        {
            "source": "from textblob import TextBlob\ntrain['comments'].apply(lambda x: str(TextBlob(x).correct()))\ntrain.head()", 
            "cell_type": "markdown", 
            "metadata": {}
        }, 
        {
            "source": "## 3.4 tokenizing and lemmatization ", 
            "cell_type": "markdown", 
            "metadata": {}
        }, 
        {
            "source": "from nltk.stem import PorterStemmer\nfrom nltk.tokenize import sent_tokenize, word_tokenize\nnltk.download('punkt')\n", 
            "cell_type": "code", 
            "execution_count": 73, 
            "outputs": [], 
            "metadata": {}
        }, 
        {
            "source": "train['comments'] = train['comments'].apply(lambda x: word_tokenize(x))\n", 
            "cell_type": "code", 
            "execution_count": 74, 
            "outputs": [], 
            "metadata": {}
        }, 
        {
            "source": "ps = PorterStemmer()\n\ntrain['comments'] = train['comments'].apply(lambda x:\" \".join(ps.stem(word)for word in x))\n", 
            "cell_type": "code", 
            "execution_count": 75, 
            "outputs": [], 
            "metadata": {}
        }, 
        {
            "source": "train.head()", 
            "cell_type": "code", 
            "execution_count": 76, 
            "outputs": [
                {
                    "output_type": "execute_result", 
                    "metadata": {}, 
                    "data": {
                        "text/html": "<div>\n<style scoped>\n    .dataframe tbody tr th:only-of-type {\n        vertical-align: middle;\n    }\n\n    .dataframe tbody tr th {\n        vertical-align: top;\n    }\n\n    .dataframe thead th {\n        text-align: right;\n    }\n</style>\n<table border=\"1\" class=\"dataframe\">\n  <thead>\n    <tr style=\"text-align: right;\">\n      <th></th>\n      <th>id</th>\n      <th>comments</th>\n      <th>subreddits</th>\n      <th>word_count</th>\n      <th>char_count</th>\n      <th>stopwords</th>\n      <th>links</th>\n      <th>numerics</th>\n      <th>upper</th>\n    </tr>\n  </thead>\n  <tbody>\n    <tr>\n      <th>0</th>\n      <td>0</td>\n      <td>honestli buffalo correct answer rememb peopl s...</td>\n      <td>hockey</td>\n      <td>58</td>\n      <td>357</td>\n      <td>20</td>\n      <td>False</td>\n      <td>1</td>\n      <td>2</td>\n    </tr>\n    <tr>\n      <th>1</th>\n      <td>1</td>\n      <td>ah ye way could rememb draft thought gon na gr...</td>\n      <td>nba</td>\n      <td>29</td>\n      <td>145</td>\n      <td>12</td>\n      <td>False</td>\n      <td>0</td>\n      <td>1</td>\n    </tr>\n    <tr>\n      <th>2</th>\n      <td>2</td>\n      <td>httpsyoutube6xxbbr8isz0t40m49 didnt find alrea...</td>\n      <td>leagueoflegends</td>\n      <td>18</td>\n      <td>145</td>\n      <td>9</td>\n      <td>True</td>\n      <td>0</td>\n      <td>0</td>\n    </tr>\n    <tr>\n      <th>3</th>\n      <td>3</td>\n      <td>wouldnt bad sign wouldnt paid 18m euro right p...</td>\n      <td>soccer</td>\n      <td>24</td>\n      <td>123</td>\n      <td>12</td>\n      <td>False</td>\n      <td>0</td>\n      <td>1</td>\n    </tr>\n    <tr>\n      <th>4</th>\n      <td>4</td>\n      <td>easi use piss dri techniqu let drop let dri ri...</td>\n      <td>funny</td>\n      <td>46</td>\n      <td>212</td>\n      <td>17</td>\n      <td>False</td>\n      <td>0</td>\n      <td>0</td>\n    </tr>\n  </tbody>\n</table>\n</div>", 
                        "text/plain": "   id                                           comments       subreddits  \\\n0   0  honestli buffalo correct answer rememb peopl s...           hockey   \n1   1  ah ye way could rememb draft thought gon na gr...              nba   \n2   2  httpsyoutube6xxbbr8isz0t40m49 didnt find alrea...  leagueoflegends   \n3   3  wouldnt bad sign wouldnt paid 18m euro right p...           soccer   \n4   4  easi use piss dri techniqu let drop let dri ri...            funny   \n\n   word_count  char_count  stopwords  links  numerics  upper  \n0          58         357         20  False         1      2  \n1          29         145         12  False         0      1  \n2          18         145          9   True         0      0  \n3          24         123         12  False         0      1  \n4          46         212         17  False         0      0  "
                    }, 
                    "execution_count": 76
                }
            ], 
            "metadata": {}
        }, 
        {
            "source": "targets=train[\"subreddits\"]\ntraindata=train[\"comments\"]\nlen(targets)\nlen(traindata)", 
            "cell_type": "code", 
            "execution_count": 77, 
            "outputs": [
                {
                    "output_type": "execute_result", 
                    "metadata": {}, 
                    "data": {
                        "text/plain": "70000"
                    }, 
                    "execution_count": 77
                }
            ], 
            "metadata": {}
        }, 
        {
            "source": "#######test data\nbody = client_c630b40987034e00a2c13458fdb2cc88.get_object(Bucket='5512-donotdelete-pr-qtcqvweu0xfryc',Key='reddit_test.csv')['Body']\n# add missing __iter__ method, so pandas accepts body as file-like object\nif not hasattr(body, \"__iter__\"): body.__iter__ = types.MethodType( __iter__, body )\n\nreddit_test = pd.read_csv(body)\nreddit_test.head()\n", 
            "cell_type": "code", 
            "execution_count": 78, 
            "outputs": [
                {
                    "output_type": "execute_result", 
                    "metadata": {}, 
                    "data": {
                        "text/html": "<div>\n<style scoped>\n    .dataframe tbody tr th:only-of-type {\n        vertical-align: middle;\n    }\n\n    .dataframe tbody tr th {\n        vertical-align: top;\n    }\n\n    .dataframe thead th {\n        text-align: right;\n    }\n</style>\n<table border=\"1\" class=\"dataframe\">\n  <thead>\n    <tr style=\"text-align: right;\">\n      <th></th>\n      <th>id</th>\n      <th>comments</th>\n    </tr>\n  </thead>\n  <tbody>\n    <tr>\n      <th>0</th>\n      <td>0</td>\n      <td>Trout and Bryant have both led the league in s...</td>\n    </tr>\n    <tr>\n      <th>1</th>\n      <td>1</td>\n      <td>&amp;gt; Just like Estonians have good reasons to ...</td>\n    </tr>\n    <tr>\n      <th>2</th>\n      <td>2</td>\n      <td>Will Sol_Primeval sotp being oblivious?\\n\\nfin...</td>\n    </tr>\n    <tr>\n      <th>3</th>\n      <td>3</td>\n      <td>Moving Ostwald borders back to the pre 1967 bo...</td>\n    </tr>\n    <tr>\n      <th>4</th>\n      <td>4</td>\n      <td>You have to take it out of the bag, Morty!</td>\n    </tr>\n  </tbody>\n</table>\n</div>", 
                        "text/plain": "   id                                           comments\n0   0  Trout and Bryant have both led the league in s...\n1   1  &gt; Just like Estonians have good reasons to ...\n2   2  Will Sol_Primeval sotp being oblivious?\\n\\nfin...\n3   3  Moving Ostwald borders back to the pre 1967 bo...\n4   4         You have to take it out of the bag, Morty!"
                    }, 
                    "execution_count": 78
                }
            ], 
            "metadata": {}
        }, 
        {
            "source": "X_train, X_test, y_train, y_test = train_test_split(traindata, targets, test_size=0.15)\n", 
            "cell_type": "code", 
            "execution_count": 79, 
            "outputs": [], 
            "metadata": {}
        }, 
        {
            "source": "## Building a pipeline\n#### vectorizer => transformer => classifier\n##### multinomial naive bayes\n", 
            "cell_type": "markdown", 
            "metadata": {}
        }, 
        {
            "source": "from sklearn.feature_extraction.text import TfidfTransformer\nfrom sklearn.naive_bayes import MultinomialNB\nfrom sklearn.model_selection import train_test_split\nfrom sklearn.feature_extraction.text import CountVectorizer\nimport numpy as np\n\n\nfrom sklearn.pipeline import Pipeline\ntext_clf = Pipeline([\n     ('vect', CountVectorizer()),\n     ('tfidf', TfidfTransformer()),\n     ('clf', MultinomialNB()),\n ])\n\ntext_clf.fit(X_train, y_train) \n\nnp.mean(y_test==text_clf.predict(X_test))", 
            "cell_type": "code", 
            "execution_count": 80, 
            "outputs": [
                {
                    "output_type": "execute_result", 
                    "metadata": {}, 
                    "data": {
                        "text/plain": "0.5578095238095238"
                    }, 
                    "execution_count": 80
                }
            ], 
            "metadata": {}
        }, 
        {
            "source": "### Building a pipeline\n##### Support vector machine", 
            "cell_type": "markdown", 
            "metadata": {}
        }, 
        {
            "source": "from sklearn.linear_model import SGDClassifier\n>>> text_clf = Pipeline([\n ('vect', CountVectorizer()),\n('tfidf', TfidfTransformer()),\n ('clf', SGDClassifier(loss='hinge', penalty='l2',\n                           alpha=1e-3, random_state=42,\n                           max_iter=5, tol=None)),\n])\ntext_clf.fit(X_train, y_train) \nnp.mean(y_test==text_clf.predict(X_test))", 
            "cell_type": "code", 
            "execution_count": 81, 
            "outputs": [
                {
                    "output_type": "stream", 
                    "name": "stderr", 
                    "text": "/opt/conda/envs/Python36/lib/python3.6/site-packages/sklearn/linear_model/stochastic_gradient.py:183: FutureWarning: max_iter and tol parameters have been added in SGDClassifier in 0.19. If max_iter is set but tol is left unset, the default value for tol in 0.19 and 0.20 will be None (which is equivalent to -infinity, so it has no effect) but will change in 0.21 to 1e-3. Specify tol to silence this warning.\n  FutureWarning)\n"
                }, 
                {
                    "output_type": "execute_result", 
                    "metadata": {}, 
                    "data": {
                        "text/plain": "0.5381904761904762"
                    }, 
                    "execution_count": 81
                }
            ], 
            "metadata": {}
        }, 
        {
            "source": "", 
            "cell_type": "code", 
            "execution_count": null, 
            "outputs": [], 
            "metadata": {}
        }
    ], 
    "nbformat": 4, 
    "metadata": {
        "kernelspec": {
            "display_name": "Python 3.6", 
            "name": "python3", 
            "language": "python"
        }, 
        "language_info": {
            "mimetype": "text/x-python", 
            "nbconvert_exporter": "python", 
            "version": "3.6.8", 
            "name": "python", 
            "pygments_lexer": "ipython3", 
            "file_extension": ".py", 
            "codemirror_mode": {
                "version": 3, 
                "name": "ipython"
            }
        }
    }
}